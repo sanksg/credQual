{
 "cells": [
  {
   "cell_type": "markdown",
   "metadata": {},
   "source": [
    "# Overview\n",
    "\n",
    "In this notebook, a Boosted Tree methods based classifier called XGBoost will be used."
   ]
  },
  {
   "cell_type": "code",
   "execution_count": 1,
   "metadata": {
    "collapsed": true
   },
   "outputs": [],
   "source": [
    "import numpy as np\n",
    "import pandas as pd"
   ]
  },
  {
   "cell_type": "code",
   "execution_count": 2,
   "metadata": {
    "collapsed": true
   },
   "outputs": [],
   "source": [
    "%load_ext autoreload\n",
    "%autoreload 2"
   ]
  },
  {
   "cell_type": "code",
   "execution_count": 3,
   "metadata": {
    "collapsed": true
   },
   "outputs": [],
   "source": [
    "# Sklearn imports\n",
    "from sklearn.preprocessing import Imputer\n",
    "from sklearn.preprocessing import StandardScaler\n",
    "from sklearn.ensemble import RandomForestClassifier\n",
    "from sklearn.pipeline import Pipeline, make_pipeline\n",
    "from sklearn.model_selection import cross_val_score, train_test_split, GridSearchCV\n",
    "from sklearn.metrics import confusion_matrix, f1_score, accuracy_score\n",
    "from sklearn.utils import resample"
   ]
  },
  {
   "cell_type": "code",
   "execution_count": 4,
   "metadata": {
    "collapsed": true
   },
   "outputs": [],
   "source": [
    "import helperFunctions"
   ]
  },
  {
   "cell_type": "code",
   "execution_count": 5,
   "metadata": {
    "collapsed": true
   },
   "outputs": [],
   "source": [
    "import xgboost"
   ]
  },
  {
   "cell_type": "code",
   "execution_count": 6,
   "metadata": {
    "collapsed": true
   },
   "outputs": [],
   "source": [
    "# Setting the random state for later use\n",
    "random_state = 565"
   ]
  },
  {
   "cell_type": "markdown",
   "metadata": {},
   "source": [
    "## Load datasets"
   ]
  },
  {
   "cell_type": "code",
   "execution_count": 7,
   "metadata": {
    "collapsed": true
   },
   "outputs": [],
   "source": [
    "X_train, y_train = helperFunctions.load_clean_encode('training.csv', delimiter=';')"
   ]
  },
  {
   "cell_type": "code",
   "execution_count": 8,
   "metadata": {
    "collapsed": true
   },
   "outputs": [],
   "source": [
    "X_valid, y_valid = helperFunctions.load_clean_encode('validation.csv', delimiter=';')\n"
   ]
  },
  {
   "cell_type": "markdown",
   "metadata": {},
   "source": [
    "Make sure that the train and validation sets have the same columns"
   ]
  },
  {
   "cell_type": "code",
   "execution_count": 9,
   "metadata": {
    "collapsed": true
   },
   "outputs": [],
   "source": [
    "X_train, X_valid = helperFunctions.equalizeColumns(X_train, X_valid)"
   ]
  },
  {
   "cell_type": "markdown",
   "metadata": {},
   "source": [
    "## XGBoost Classification"
   ]
  },
  {
   "cell_type": "markdown",
   "metadata": {},
   "source": [
    "__Initial Performance__"
   ]
  },
  {
   "cell_type": "code",
   "execution_count": 10,
   "metadata": {},
   "outputs": [
    {
     "name": "stdout",
     "output_type": "stream",
     "text": [
      "[0]\tvalidation_0-error:0.251282\n",
      "[1]\tvalidation_0-error:0.251282\n",
      "[2]\tvalidation_0-error:0.25641\n",
      "[3]\tvalidation_0-error:0.25641\n",
      "[4]\tvalidation_0-error:0.25641\n",
      "[5]\tvalidation_0-error:0.25641\n",
      "[6]\tvalidation_0-error:0.25641\n",
      "[7]\tvalidation_0-error:0.276923\n",
      "[8]\tvalidation_0-error:0.271795\n",
      "[9]\tvalidation_0-error:0.271795\n",
      "[10]\tvalidation_0-error:0.276923\n",
      "[11]\tvalidation_0-error:0.282051\n",
      "[12]\tvalidation_0-error:0.276923\n",
      "[13]\tvalidation_0-error:0.276923\n",
      "[14]\tvalidation_0-error:0.271795\n",
      "[15]\tvalidation_0-error:0.276923\n",
      "[16]\tvalidation_0-error:0.271795\n",
      "[17]\tvalidation_0-error:0.271795\n",
      "[18]\tvalidation_0-error:0.271795\n",
      "[19]\tvalidation_0-error:0.271795\n",
      "[20]\tvalidation_0-error:0.271795\n",
      "[21]\tvalidation_0-error:0.266667\n",
      "[22]\tvalidation_0-error:0.266667\n",
      "[23]\tvalidation_0-error:0.266667\n",
      "[24]\tvalidation_0-error:0.266667\n",
      "[25]\tvalidation_0-error:0.266667\n",
      "[26]\tvalidation_0-error:0.266667\n",
      "[27]\tvalidation_0-error:0.266667\n",
      "[28]\tvalidation_0-error:0.266667\n",
      "[29]\tvalidation_0-error:0.266667\n",
      "[30]\tvalidation_0-error:0.266667\n",
      "[31]\tvalidation_0-error:0.271795\n",
      "[32]\tvalidation_0-error:0.271795\n",
      "[33]\tvalidation_0-error:0.271795\n",
      "[34]\tvalidation_0-error:0.271795\n",
      "[35]\tvalidation_0-error:0.271795\n",
      "[36]\tvalidation_0-error:0.271795\n",
      "[37]\tvalidation_0-error:0.271795\n",
      "[38]\tvalidation_0-error:0.271795\n",
      "[39]\tvalidation_0-error:0.271795\n",
      "[40]\tvalidation_0-error:0.271795\n",
      "[41]\tvalidation_0-error:0.276923\n",
      "[42]\tvalidation_0-error:0.276923\n",
      "[43]\tvalidation_0-error:0.271795\n",
      "[44]\tvalidation_0-error:0.276923\n",
      "[45]\tvalidation_0-error:0.271795\n",
      "[46]\tvalidation_0-error:0.276923\n",
      "[47]\tvalidation_0-error:0.276923\n",
      "[48]\tvalidation_0-error:0.271795\n",
      "[49]\tvalidation_0-error:0.261538\n",
      "[50]\tvalidation_0-error:0.261538\n",
      "[51]\tvalidation_0-error:0.261538\n",
      "[52]\tvalidation_0-error:0.25641\n",
      "[53]\tvalidation_0-error:0.25641\n",
      "[54]\tvalidation_0-error:0.25641\n",
      "[55]\tvalidation_0-error:0.25641\n",
      "[56]\tvalidation_0-error:0.25641\n",
      "[57]\tvalidation_0-error:0.251282\n",
      "[58]\tvalidation_0-error:0.251282\n",
      "[59]\tvalidation_0-error:0.251282\n",
      "[60]\tvalidation_0-error:0.241026\n",
      "[61]\tvalidation_0-error:0.251282\n",
      "[62]\tvalidation_0-error:0.241026\n",
      "[63]\tvalidation_0-error:0.246154\n",
      "[64]\tvalidation_0-error:0.241026\n",
      "[65]\tvalidation_0-error:0.241026\n",
      "[66]\tvalidation_0-error:0.235897\n",
      "[67]\tvalidation_0-error:0.235897\n",
      "[68]\tvalidation_0-error:0.230769\n",
      "[69]\tvalidation_0-error:0.230769\n",
      "[70]\tvalidation_0-error:0.230769\n",
      "[71]\tvalidation_0-error:0.230769\n",
      "[72]\tvalidation_0-error:0.230769\n",
      "[73]\tvalidation_0-error:0.225641\n",
      "[74]\tvalidation_0-error:0.225641\n",
      "[75]\tvalidation_0-error:0.215385\n",
      "[76]\tvalidation_0-error:0.215385\n",
      "[77]\tvalidation_0-error:0.215385\n",
      "[78]\tvalidation_0-error:0.215385\n",
      "[79]\tvalidation_0-error:0.215385\n",
      "[80]\tvalidation_0-error:0.215385\n",
      "[81]\tvalidation_0-error:0.215385\n",
      "[82]\tvalidation_0-error:0.215385\n",
      "[83]\tvalidation_0-error:0.210256\n",
      "[84]\tvalidation_0-error:0.210256\n",
      "[85]\tvalidation_0-error:0.215385\n",
      "[86]\tvalidation_0-error:0.215385\n",
      "[87]\tvalidation_0-error:0.215385\n",
      "[88]\tvalidation_0-error:0.210256\n",
      "[89]\tvalidation_0-error:0.210256\n",
      "[90]\tvalidation_0-error:0.205128\n",
      "[91]\tvalidation_0-error:0.215385\n",
      "[92]\tvalidation_0-error:0.205128\n",
      "[93]\tvalidation_0-error:0.205128\n",
      "[94]\tvalidation_0-error:0.205128\n",
      "[95]\tvalidation_0-error:0.205128\n",
      "[96]\tvalidation_0-error:0.2\n",
      "[97]\tvalidation_0-error:0.194872\n",
      "[98]\tvalidation_0-error:0.194872\n",
      "[99]\tvalidation_0-error:0.194872\n"
     ]
    },
    {
     "data": {
      "text/plain": [
       "XGBClassifier(base_score=0.5, booster='gbtree', colsample_bylevel=1,\n",
       "       colsample_bytree=1, gamma=0, learning_rate=0.1, max_delta_step=0,\n",
       "       max_depth=3, min_child_weight=1, missing=None, n_estimators=100,\n",
       "       n_jobs=1, nthread=None, objective='binary:logistic', random_state=0,\n",
       "       reg_alpha=0, reg_lambda=1, scale_pos_weight=1, seed=None,\n",
       "       silent=True, subsample=1)"
      ]
     },
     "execution_count": 10,
     "metadata": {},
     "output_type": "execute_result"
    }
   ],
   "source": [
    "model = xgboost.XGBClassifier()\n",
    "eval_set = [(X_valid, y_valid)]\n",
    "model.fit(X_train, y_train, eval_metric=\"error\", eval_set=eval_set)"
   ]
  },
  {
   "cell_type": "code",
   "execution_count": 11,
   "metadata": {},
   "outputs": [
    {
     "name": "stdout",
     "output_type": "stream",
     "text": [
      "Accuracy: 80.51%\n"
     ]
    }
   ],
   "source": [
    "# make predictions for test data\n",
    "y_pred = model.predict(X_valid)\n",
    "predictions = [round(value) for value in y_pred]\n",
    "# evaluate predictions\n",
    "accuracy = accuracy_score(y_valid, predictions)\n",
    "print(\"Accuracy: %.2f%%\" % (accuracy * 100.0))"
   ]
  },
  {
   "cell_type": "markdown",
   "metadata": {},
   "source": [
    "__Hyperparameter Tuning__"
   ]
  },
  {
   "cell_type": "code",
   "execution_count": 12,
   "metadata": {
    "collapsed": true
   },
   "outputs": [],
   "source": [
    "xgPipe0 = Pipeline(steps = [\n",
    "    ('imputer', Imputer(strategy='mean', axis=0)),\n",
    "    ('scaler', StandardScaler()),\n",
    "    ('clf', xgboost.XGBClassifier(random_state=random_state)),\n",
    "])"
   ]
  },
  {
   "cell_type": "code",
   "execution_count": 21,
   "metadata": {},
   "outputs": [
    {
     "name": "stdout",
     "output_type": "stream",
     "text": [
      "Best score: -0.056\n",
      "Best parameters set:\n",
      "\tclf__learning_rate: 0.5\n",
      "\tclf__objective: 'reg:logistic'\n",
      "\tclf__reg_lambda: 1\n",
      "\tclf__subsample: 1\n",
      "\n",
      "\n",
      "Grid scores:\n",
      "-0.151 (+/-0.098) for {'clf__learning_rate': 0.3, 'clf__objective': 'reg:linear', 'clf__reg_lambda': 1, 'clf__subsample': 0.3}\n",
      "-0.142 (+/-0.098) for {'clf__learning_rate': 0.3, 'clf__objective': 'reg:linear', 'clf__reg_lambda': 1, 'clf__subsample': 0.5}\n",
      "-0.108 (+/-0.083) for {'clf__learning_rate': 0.3, 'clf__objective': 'reg:linear', 'clf__reg_lambda': 1, 'clf__subsample': 1}\n",
      "-0.137 (+/-0.103) for {'clf__learning_rate': 0.3, 'clf__objective': 'reg:linear', 'clf__reg_lambda': 5, 'clf__subsample': 0.3}\n",
      "-0.098 (+/-0.075) for {'clf__learning_rate': 0.3, 'clf__objective': 'reg:linear', 'clf__reg_lambda': 5, 'clf__subsample': 0.5}\n",
      "-0.110 (+/-0.068) for {'clf__learning_rate': 0.3, 'clf__objective': 'reg:linear', 'clf__reg_lambda': 5, 'clf__subsample': 1}\n",
      "-0.108 (+/-0.068) for {'clf__learning_rate': 0.3, 'clf__objective': 'reg:linear', 'clf__reg_lambda': 10, 'clf__subsample': 0.3}\n",
      "-0.124 (+/-0.078) for {'clf__learning_rate': 0.3, 'clf__objective': 'reg:linear', 'clf__reg_lambda': 10, 'clf__subsample': 0.5}\n",
      "-0.103 (+/-0.070) for {'clf__learning_rate': 0.3, 'clf__objective': 'reg:linear', 'clf__reg_lambda': 10, 'clf__subsample': 1}\n",
      "-0.122 (+/-0.057) for {'clf__learning_rate': 0.3, 'clf__objective': 'reg:linear', 'clf__reg_lambda': 50, 'clf__subsample': 0.3}\n",
      "-0.093 (+/-0.047) for {'clf__learning_rate': 0.3, 'clf__objective': 'reg:linear', 'clf__reg_lambda': 50, 'clf__subsample': 0.5}\n",
      "-0.107 (+/-0.045) for {'clf__learning_rate': 0.3, 'clf__objective': 'reg:linear', 'clf__reg_lambda': 50, 'clf__subsample': 1}\n",
      "-0.071 (+/-0.018) for {'clf__learning_rate': 0.3, 'clf__objective': 'reg:logistic', 'clf__reg_lambda': 1, 'clf__subsample': 0.3}\n",
      "-0.066 (+/-0.018) for {'clf__learning_rate': 0.3, 'clf__objective': 'reg:logistic', 'clf__reg_lambda': 1, 'clf__subsample': 0.5}\n",
      "-0.059 (+/-0.020) for {'clf__learning_rate': 0.3, 'clf__objective': 'reg:logistic', 'clf__reg_lambda': 1, 'clf__subsample': 1}\n",
      "-0.076 (+/-0.020) for {'clf__learning_rate': 0.3, 'clf__objective': 'reg:logistic', 'clf__reg_lambda': 5, 'clf__subsample': 0.3}\n",
      "-0.066 (+/-0.022) for {'clf__learning_rate': 0.3, 'clf__objective': 'reg:logistic', 'clf__reg_lambda': 5, 'clf__subsample': 0.5}\n",
      "-0.061 (+/-0.016) for {'clf__learning_rate': 0.3, 'clf__objective': 'reg:logistic', 'clf__reg_lambda': 5, 'clf__subsample': 1}\n",
      "-0.079 (+/-0.019) for {'clf__learning_rate': 0.3, 'clf__objective': 'reg:logistic', 'clf__reg_lambda': 10, 'clf__subsample': 0.3}\n",
      "-0.070 (+/-0.018) for {'clf__learning_rate': 0.3, 'clf__objective': 'reg:logistic', 'clf__reg_lambda': 10, 'clf__subsample': 0.5}\n",
      "-0.064 (+/-0.016) for {'clf__learning_rate': 0.3, 'clf__objective': 'reg:logistic', 'clf__reg_lambda': 10, 'clf__subsample': 1}\n",
      "-0.092 (+/-0.019) for {'clf__learning_rate': 0.3, 'clf__objective': 'reg:logistic', 'clf__reg_lambda': 50, 'clf__subsample': 0.3}\n",
      "-0.085 (+/-0.015) for {'clf__learning_rate': 0.3, 'clf__objective': 'reg:logistic', 'clf__reg_lambda': 50, 'clf__subsample': 0.5}\n",
      "-0.077 (+/-0.016) for {'clf__learning_rate': 0.3, 'clf__objective': 'reg:logistic', 'clf__reg_lambda': 50, 'clf__subsample': 1}\n",
      "-0.194 (+/-0.133) for {'clf__learning_rate': 0.5, 'clf__objective': 'reg:linear', 'clf__reg_lambda': 1, 'clf__subsample': 0.3}\n",
      "-0.159 (+/-0.121) for {'clf__learning_rate': 0.5, 'clf__objective': 'reg:linear', 'clf__reg_lambda': 1, 'clf__subsample': 0.5}\n",
      "-0.120 (+/-0.123) for {'clf__learning_rate': 0.5, 'clf__objective': 'reg:linear', 'clf__reg_lambda': 1, 'clf__subsample': 1}\n",
      "-0.133 (+/-0.075) for {'clf__learning_rate': 0.5, 'clf__objective': 'reg:linear', 'clf__reg_lambda': 5, 'clf__subsample': 0.3}\n",
      "-0.127 (+/-0.102) for {'clf__learning_rate': 0.5, 'clf__objective': 'reg:linear', 'clf__reg_lambda': 5, 'clf__subsample': 0.5}\n",
      "-0.114 (+/-0.074) for {'clf__learning_rate': 0.5, 'clf__objective': 'reg:linear', 'clf__reg_lambda': 5, 'clf__subsample': 1}\n",
      "-0.141 (+/-0.038) for {'clf__learning_rate': 0.5, 'clf__objective': 'reg:linear', 'clf__reg_lambda': 10, 'clf__subsample': 0.3}\n",
      "-0.107 (+/-0.076) for {'clf__learning_rate': 0.5, 'clf__objective': 'reg:linear', 'clf__reg_lambda': 10, 'clf__subsample': 0.5}\n",
      "-0.098 (+/-0.072) for {'clf__learning_rate': 0.5, 'clf__objective': 'reg:linear', 'clf__reg_lambda': 10, 'clf__subsample': 1}\n",
      "-0.137 (+/-0.080) for {'clf__learning_rate': 0.5, 'clf__objective': 'reg:linear', 'clf__reg_lambda': 50, 'clf__subsample': 0.3}\n",
      "-0.088 (+/-0.054) for {'clf__learning_rate': 0.5, 'clf__objective': 'reg:linear', 'clf__reg_lambda': 50, 'clf__subsample': 0.5}\n",
      "-0.093 (+/-0.074) for {'clf__learning_rate': 0.5, 'clf__objective': 'reg:linear', 'clf__reg_lambda': 50, 'clf__subsample': 1}\n",
      "-0.086 (+/-0.030) for {'clf__learning_rate': 0.5, 'clf__objective': 'reg:logistic', 'clf__reg_lambda': 1, 'clf__subsample': 0.3}\n",
      "-0.067 (+/-0.032) for {'clf__learning_rate': 0.5, 'clf__objective': 'reg:logistic', 'clf__reg_lambda': 1, 'clf__subsample': 0.5}\n",
      "-0.056 (+/-0.025) for {'clf__learning_rate': 0.5, 'clf__objective': 'reg:logistic', 'clf__reg_lambda': 1, 'clf__subsample': 1}\n",
      "-0.075 (+/-0.030) for {'clf__learning_rate': 0.5, 'clf__objective': 'reg:logistic', 'clf__reg_lambda': 5, 'clf__subsample': 0.3}\n",
      "-0.068 (+/-0.023) for {'clf__learning_rate': 0.5, 'clf__objective': 'reg:logistic', 'clf__reg_lambda': 5, 'clf__subsample': 0.5}\n",
      "-0.059 (+/-0.028) for {'clf__learning_rate': 0.5, 'clf__objective': 'reg:logistic', 'clf__reg_lambda': 5, 'clf__subsample': 1}\n",
      "-0.074 (+/-0.029) for {'clf__learning_rate': 0.5, 'clf__objective': 'reg:logistic', 'clf__reg_lambda': 10, 'clf__subsample': 0.3}\n",
      "-0.067 (+/-0.014) for {'clf__learning_rate': 0.5, 'clf__objective': 'reg:logistic', 'clf__reg_lambda': 10, 'clf__subsample': 0.5}\n",
      "-0.060 (+/-0.019) for {'clf__learning_rate': 0.5, 'clf__objective': 'reg:logistic', 'clf__reg_lambda': 10, 'clf__subsample': 1}\n",
      "-0.087 (+/-0.021) for {'clf__learning_rate': 0.5, 'clf__objective': 'reg:logistic', 'clf__reg_lambda': 50, 'clf__subsample': 0.3}\n",
      "-0.079 (+/-0.015) for {'clf__learning_rate': 0.5, 'clf__objective': 'reg:logistic', 'clf__reg_lambda': 50, 'clf__subsample': 0.5}\n",
      "-0.071 (+/-0.019) for {'clf__learning_rate': 0.5, 'clf__objective': 'reg:logistic', 'clf__reg_lambda': 50, 'clf__subsample': 1}\n",
      "-0.362 (+/-0.113) for {'clf__learning_rate': 0.7, 'clf__objective': 'reg:linear', 'clf__reg_lambda': 1, 'clf__subsample': 0.3}\n",
      "-0.156 (+/-0.164) for {'clf__learning_rate': 0.7, 'clf__objective': 'reg:linear', 'clf__reg_lambda': 1, 'clf__subsample': 0.5}\n",
      "-0.115 (+/-0.077) for {'clf__learning_rate': 0.7, 'clf__objective': 'reg:linear', 'clf__reg_lambda': 1, 'clf__subsample': 1}\n",
      "-0.211 (+/-0.121) for {'clf__learning_rate': 0.7, 'clf__objective': 'reg:linear', 'clf__reg_lambda': 5, 'clf__subsample': 0.3}\n",
      "-0.134 (+/-0.099) for {'clf__learning_rate': 0.7, 'clf__objective': 'reg:linear', 'clf__reg_lambda': 5, 'clf__subsample': 0.5}\n",
      "-0.105 (+/-0.084) for {'clf__learning_rate': 0.7, 'clf__objective': 'reg:linear', 'clf__reg_lambda': 5, 'clf__subsample': 1}\n",
      "-0.143 (+/-0.068) for {'clf__learning_rate': 0.7, 'clf__objective': 'reg:linear', 'clf__reg_lambda': 10, 'clf__subsample': 0.3}\n",
      "-0.111 (+/-0.075) for {'clf__learning_rate': 0.7, 'clf__objective': 'reg:linear', 'clf__reg_lambda': 10, 'clf__subsample': 0.5}\n",
      "-0.105 (+/-0.089) for {'clf__learning_rate': 0.7, 'clf__objective': 'reg:linear', 'clf__reg_lambda': 10, 'clf__subsample': 1}\n",
      "-0.145 (+/-0.097) for {'clf__learning_rate': 0.7, 'clf__objective': 'reg:linear', 'clf__reg_lambda': 50, 'clf__subsample': 0.3}\n",
      "-0.092 (+/-0.036) for {'clf__learning_rate': 0.7, 'clf__objective': 'reg:linear', 'clf__reg_lambda': 50, 'clf__subsample': 0.5}\n",
      "-0.087 (+/-0.050) for {'clf__learning_rate': 0.7, 'clf__objective': 'reg:linear', 'clf__reg_lambda': 50, 'clf__subsample': 1}\n",
      "-0.097 (+/-0.049) for {'clf__learning_rate': 0.7, 'clf__objective': 'reg:logistic', 'clf__reg_lambda': 1, 'clf__subsample': 0.3}\n",
      "-0.073 (+/-0.023) for {'clf__learning_rate': 0.7, 'clf__objective': 'reg:logistic', 'clf__reg_lambda': 1, 'clf__subsample': 0.5}\n",
      "-0.064 (+/-0.033) for {'clf__learning_rate': 0.7, 'clf__objective': 'reg:logistic', 'clf__reg_lambda': 1, 'clf__subsample': 1}\n",
      "-0.078 (+/-0.029) for {'clf__learning_rate': 0.7, 'clf__objective': 'reg:logistic', 'clf__reg_lambda': 5, 'clf__subsample': 0.3}\n",
      "-0.071 (+/-0.027) for {'clf__learning_rate': 0.7, 'clf__objective': 'reg:logistic', 'clf__reg_lambda': 5, 'clf__subsample': 0.5}\n",
      "-0.060 (+/-0.026) for {'clf__learning_rate': 0.7, 'clf__objective': 'reg:logistic', 'clf__reg_lambda': 5, 'clf__subsample': 1}\n",
      "-0.075 (+/-0.022) for {'clf__learning_rate': 0.7, 'clf__objective': 'reg:logistic', 'clf__reg_lambda': 10, 'clf__subsample': 0.3}\n",
      "-0.066 (+/-0.021) for {'clf__learning_rate': 0.7, 'clf__objective': 'reg:logistic', 'clf__reg_lambda': 10, 'clf__subsample': 0.5}\n",
      "-0.060 (+/-0.020) for {'clf__learning_rate': 0.7, 'clf__objective': 'reg:logistic', 'clf__reg_lambda': 10, 'clf__subsample': 1}\n",
      "-0.082 (+/-0.022) for {'clf__learning_rate': 0.7, 'clf__objective': 'reg:logistic', 'clf__reg_lambda': 50, 'clf__subsample': 0.3}\n",
      "-0.075 (+/-0.015) for {'clf__learning_rate': 0.7, 'clf__objective': 'reg:logistic', 'clf__reg_lambda': 50, 'clf__subsample': 0.5}\n",
      "-0.065 (+/-0.019) for {'clf__learning_rate': 0.7, 'clf__objective': 'reg:logistic', 'clf__reg_lambda': 50, 'clf__subsample': 1}\n",
      "-0.454 (+/-0.266) for {'clf__learning_rate': 0.9, 'clf__objective': 'reg:linear', 'clf__reg_lambda': 1, 'clf__subsample': 0.3}\n",
      "-0.227 (+/-0.211) for {'clf__learning_rate': 0.9, 'clf__objective': 'reg:linear', 'clf__reg_lambda': 1, 'clf__subsample': 0.5}\n",
      "-0.133 (+/-0.124) for {'clf__learning_rate': 0.9, 'clf__objective': 'reg:linear', 'clf__reg_lambda': 1, 'clf__subsample': 1}\n",
      "-0.224 (+/-0.213) for {'clf__learning_rate': 0.9, 'clf__objective': 'reg:linear', 'clf__reg_lambda': 5, 'clf__subsample': 0.3}\n",
      "-0.207 (+/-0.163) for {'clf__learning_rate': 0.9, 'clf__objective': 'reg:linear', 'clf__reg_lambda': 5, 'clf__subsample': 0.5}\n",
      "-0.113 (+/-0.106) for {'clf__learning_rate': 0.9, 'clf__objective': 'reg:linear', 'clf__reg_lambda': 5, 'clf__subsample': 1}\n",
      "-0.233 (+/-0.281) for {'clf__learning_rate': 0.9, 'clf__objective': 'reg:linear', 'clf__reg_lambda': 10, 'clf__subsample': 0.3}\n",
      "-0.146 (+/-0.110) for {'clf__learning_rate': 0.9, 'clf__objective': 'reg:linear', 'clf__reg_lambda': 10, 'clf__subsample': 0.5}\n",
      "-0.123 (+/-0.126) for {'clf__learning_rate': 0.9, 'clf__objective': 'reg:linear', 'clf__reg_lambda': 10, 'clf__subsample': 1}\n",
      "-0.117 (+/-0.101) for {'clf__learning_rate': 0.9, 'clf__objective': 'reg:linear', 'clf__reg_lambda': 50, 'clf__subsample': 0.3}\n",
      "-0.107 (+/-0.094) for {'clf__learning_rate': 0.9, 'clf__objective': 'reg:linear', 'clf__reg_lambda': 50, 'clf__subsample': 0.5}\n",
      "-0.112 (+/-0.109) for {'clf__learning_rate': 0.9, 'clf__objective': 'reg:linear', 'clf__reg_lambda': 50, 'clf__subsample': 1}\n",
      "-0.106 (+/-0.050) for {'clf__learning_rate': 0.9, 'clf__objective': 'reg:logistic', 'clf__reg_lambda': 1, 'clf__subsample': 0.3}\n",
      "-0.078 (+/-0.043) for {'clf__learning_rate': 0.9, 'clf__objective': 'reg:logistic', 'clf__reg_lambda': 1, 'clf__subsample': 0.5}\n",
      "-0.066 (+/-0.040) for {'clf__learning_rate': 0.9, 'clf__objective': 'reg:logistic', 'clf__reg_lambda': 1, 'clf__subsample': 1}\n",
      "-0.078 (+/-0.022) for {'clf__learning_rate': 0.9, 'clf__objective': 'reg:logistic', 'clf__reg_lambda': 5, 'clf__subsample': 0.3}\n",
      "-0.074 (+/-0.021) for {'clf__learning_rate': 0.9, 'clf__objective': 'reg:logistic', 'clf__reg_lambda': 5, 'clf__subsample': 0.5}\n",
      "-0.061 (+/-0.026) for {'clf__learning_rate': 0.9, 'clf__objective': 'reg:logistic', 'clf__reg_lambda': 5, 'clf__subsample': 1}\n",
      "-0.076 (+/-0.022) for {'clf__learning_rate': 0.9, 'clf__objective': 'reg:logistic', 'clf__reg_lambda': 10, 'clf__subsample': 0.3}\n",
      "-0.064 (+/-0.027) for {'clf__learning_rate': 0.9, 'clf__objective': 'reg:logistic', 'clf__reg_lambda': 10, 'clf__subsample': 0.5}\n",
      "-0.058 (+/-0.026) for {'clf__learning_rate': 0.9, 'clf__objective': 'reg:logistic', 'clf__reg_lambda': 10, 'clf__subsample': 1}\n",
      "-0.079 (+/-0.023) for {'clf__learning_rate': 0.9, 'clf__objective': 'reg:logistic', 'clf__reg_lambda': 50, 'clf__subsample': 0.3}\n",
      "-0.073 (+/-0.017) for {'clf__learning_rate': 0.9, 'clf__objective': 'reg:logistic', 'clf__reg_lambda': 50, 'clf__subsample': 0.5}\n",
      "-0.063 (+/-0.022) for {'clf__learning_rate': 0.9, 'clf__objective': 'reg:logistic', 'clf__reg_lambda': 50, 'clf__subsample': 1}\n",
      "\n"
     ]
    }
   ],
   "source": [
    "param_grid = [{ \n",
    "               'clf__learning_rate': [0.3,0.5,0.7,0.9], \n",
    "                'clf__objective': ['reg:linear', 'reg:logistic'], \n",
    "               'clf__subsample': [0.3, 0.5, 1],\n",
    "               'clf__reg_lambda': [1, 5, 10, 50]\n",
    "              }]\n",
    "\n",
    "# Using a predefined function for gridSearch in helperFunctions\n",
    "helperFunctions.gridSearch(xgPipe0, param_grid, X_train, y_train, scoring='neg_log_loss', cv=5)"
   ]
  },
  {
   "cell_type": "markdown",
   "metadata": {},
   "source": [
    "__Final Validation__"
   ]
  },
  {
   "cell_type": "code",
   "execution_count": 29,
   "metadata": {},
   "outputs": [
    {
     "data": {
      "text/plain": [
       "0.83589743589743593"
      ]
     },
     "execution_count": 29,
     "metadata": {},
     "output_type": "execute_result"
    }
   ],
   "source": [
    "xgPipe0.set_params(**{ \n",
    "               'clf__learning_rate': 0.5, \n",
    "               'clf__objective': 'reg:logistic', \n",
    "               'clf__subsample': 1,\n",
    "               'clf__reg_lambda': 1\n",
    "              })\n",
    "xgPipe0 = xgPipe0.fit(X=X_train, y=y_train)\n",
    "accuracy_score(y_pred=xgPipe0.predict(X=X_valid), y_true=y_valid)"
   ]
  },
  {
   "cell_type": "markdown",
   "metadata": {},
   "source": [
    "# Summary\n",
    "\n",
    "The best performance with the XGBoost classifier was about 83.5% accuracy on the validation dataset.\n"
   ]
  }
 ],
 "metadata": {
  "kernelspec": {
   "display_name": "Python 3",
   "language": "python",
   "name": "python3"
  },
  "language_info": {
   "codemirror_mode": {
    "name": "ipython",
    "version": 3
   },
   "file_extension": ".py",
   "mimetype": "text/x-python",
   "name": "python",
   "nbconvert_exporter": "python",
   "pygments_lexer": "ipython3",
   "version": "3.6.4"
  }
 },
 "nbformat": 4,
 "nbformat_minor": 2
}
